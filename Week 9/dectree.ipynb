{
 "metadata": {
  "name": "dectree"
 },
 "nbformat": 3,
 "nbformat_minor": 0,
 "worksheets": [
  {
   "cells": [
    {
     "cell_type": "code",
     "collapsed": false,
     "input": [
      "#!/usr/local/bin/python\n",
      "\n",
      "# do these first:\n",
      "# 1) install dependency pyparsing (from source!)\n",
      "# 2) pip install pydot\n",
      "\n",
      "# these are part of the python standard library (psl)\n",
      "from collections import Counter\n",
      "import StringIO\n",
      "\n",
      "# this is a third-party library (requires installation)\n",
      "import pydot\n",
      "\n",
      "# sklearn is also a third-party library (requires installation)\n",
      "from sklearn.datasets import load_iris\n",
      "from sklearn import tree\n",
      "\n",
      "def main():\n",
      "    iris = load_iris()\n",
      "    clf = tree.DecisionTreeClassifier()\n",
      "    clf = clf.fit(iris.data, iris.target)\n",
      "\n",
      "    # create visualization using graphviz (first: brew install graphviz)\n",
      "    dot_data = StringIO.StringIO()\n",
      "    tree.export_graphviz(clf, out_file=dot_data)\n",
      "    graph = pydot.graph_from_dot_data(dot_data.getvalue())\n",
      "    graph.write_pdf('iris_dectree.pdf')\n",
      "    print '\\nimage created!'\n",
      "\n",
      "    # print predictions \n",
      "    print '\\npredictions:'\n",
      "    print clf.predict(iris.data)\n",
      "\n",
      "    # print Counter object with predictions (note: no training error!)\n",
      "    print '\\npredictions Counter:'\n",
      "    print Counter(clf.predict(iris.data))\n",
      "\n",
      "if __name__ == '__main__':\n",
      "    main()\n",
      "\n",
      "# ref: http://scikit-learn.org/dev/modules/tree.html#classification\n",
      "\n",
      "# NOTE: to get other file: \n",
      "#           install numpy, matplotlib\n",
      "#           curl -O http://scikit-learn.org/dev/_downloads/plot_iris1.py"
     ],
     "language": "python",
     "metadata": {},
     "outputs": []
    }
   ],
   "metadata": {}
  }
 ]
}